{
 "cells": [
  {
   "cell_type": "markdown",
   "id": "9de52d1b",
   "metadata": {},
   "source": [
    "# TP : Implémentation de Word2Vec en Python"
   ]
  },
  {
   "cell_type": "markdown",
   "id": "de4691ac",
   "metadata": {},
   "source": [
    "\n",
    "Dans ce TP, nous allons implémenter **Word2Vec** (modèle Skip-Gram avec Negative Sampling) pour apprendre des représentations vectorielles de mots.\n",
    "La modélisation du langage nécessite de représenter les mots d’un corpus sous forme de vecteurs numériques capturant leurs relations sémantiques.\n",
    "Word2Vec est un modèle qui génère ces représentations vectorielles en utilisant un réseau de neurones à une couche cachée et un entraînement basé sur le contexte des mots.\n",
    "\n",
    "Nous allons explorer Word2Vec avec l'algorithme Skip-Gram et Negative Sampling, qui est une technique efficace pour entraîner ces représentations."
   ]
  },
  {
   "cell_type": "code",
   "execution_count": 1,
   "id": "fb4a0d93",
   "metadata": {},
   "outputs": [],
   "source": [
    "import numpy as np\n",
    "from collections import Counter\n",
    "import matplotlib.pyplot as plt\n",
    "import random\n"
   ]
  },
  {
   "cell_type": "markdown",
   "id": "a9cb19f8",
   "metadata": {},
   "source": [
    "Tokenisation"
   ]
  },
  {
   "cell_type": "code",
   "execution_count": 2,
   "id": "99aaa282",
   "metadata": {},
   "outputs": [
    {
     "name": "stdout",
     "output_type": "stream",
     "text": [
      "Vocabulaire : ['le', 'dans', 'chat', 'maison', 'la', 'ma', 'chambre', 'est']\n"
     ]
    }
   ],
   "source": [
    "corpus = [\"Le chat est dans la maison\", \"Ma chambre est dans la maison\"]\n",
    "\n",
    "# Tokenisation\n",
    "tokens = [mot.lower() for phrase in corpus for mot in phrase.split()]\n",
    "\n",
    "# Création du vocabulaire\n",
    "vocabulaire = list(set(tokens))\n",
    "print(\"Vocabulaire :\", vocabulaire)\n"
   ]
  },
  {
   "cell_type": "markdown",
   "id": "fc88ee60",
   "metadata": {},
   "source": [
    "Création des matrices W_in et W_out"
   ]
  },
  {
   "cell_type": "code",
   "execution_count": 3,
   "id": "1ab4c205",
   "metadata": {},
   "outputs": [],
   "source": [
    "dim_embedding = 10  # Dimension des vecteurs\n",
    "V = len(vocabulaire)  # Taille du vocabulaire\n",
    "\n",
    "# Initialisation des matrices avec de petites valeurs aléatoires\n",
    "W_in = np.random.randn(V, dim_embedding) * 0.01\n",
    "W_out = np.random.randn(V, dim_embedding) * 0.01\n"
   ]
  },
  {
   "cell_type": "markdown",
   "id": "f2baf1a6",
   "metadata": {},
   "source": [
    "Génération des paires (mot_central, mot_contextuel)"
   ]
  },
  {
   "cell_type": "code",
   "execution_count": 4,
   "id": "f3b724dd",
   "metadata": {},
   "outputs": [
    {
     "name": "stdout",
     "output_type": "stream",
     "text": [
      "Exemples de paires générées : [('le', 'chat'), ('le', 'est'), ('chat', 'le'), ('chat', 'est'), ('chat', 'dans')]\n"
     ]
    }
   ],
   "source": [
    "def generer_paires_skipgram(tokens, fenetre=2):\n",
    "    paires = []\n",
    "    for i, mot_central in enumerate(tokens):\n",
    "        start = max(0, i - fenetre)\n",
    "        end = min(len(tokens), i + fenetre + 1)\n",
    "        for j in range(start, end):\n",
    "            if i != j:\n",
    "                paires.append((mot_central, tokens[j]))\n",
    "    return paires\n",
    "\n",
    "paires = generer_paires_skipgram(tokens)\n",
    "print(\"Exemples de paires générées :\", paires[:5])\n"
   ]
  },
  {
   "cell_type": "markdown",
   "id": "5ed054bc",
   "metadata": {},
   "source": [
    "Sélection des mots négatifs (Negative Sampling)"
   ]
  },
  {
   "cell_type": "code",
   "execution_count": 8,
   "id": "e274897b",
   "metadata": {},
   "outputs": [
    {
     "name": "stdout",
     "output_type": "stream",
     "text": [
      "Mots négatifs sélectionnés : ['maison', 'ma', 'chambre', 'la']\n"
     ]
    }
   ],
   "source": [
    "# Calcul des fréquences des mots\n",
    "compte_mots = Counter(tokens)\n",
    "total = sum([compte_mots[w]**(3/4) for w in vocabulaire])\n",
    "proba = {w: (compte_mots[w]**(3/4)) / total for w in vocabulaire}\n",
    "\n",
    "def choisir_mots_negatifs(mot_central, k=5):\n",
    "    mots_negatifs = np.random.choice(vocabulaire, size=k, replace=False, p=[proba[w] for w in vocabulaire])\n",
    "    return [mot for mot in mots_negatifs if mot != mot_central]\n",
    "\n",
    "mots_negatifs = choisir_mots_negatifs(\"chat\", k=5)\n",
    "print(\"Mots négatifs sélectionnés :\", mots_negatifs)"
   ]
  },
  {
   "cell_type": "markdown",
   "id": "93b7098c",
   "metadata": {},
   "source": [
    "Entraînement du modèle Word2Vec"
   ]
  },
  {
   "cell_type": "code",
   "execution_count": 6,
   "id": "3c12449c",
   "metadata": {},
   "outputs": [
    {
     "name": "stdout",
     "output_type": "stream",
     "text": [
      "Epoch 0/100 terminée.\n",
      "Epoch 10/100 terminée.\n",
      "Epoch 20/100 terminée.\n",
      "Epoch 30/100 terminée.\n",
      "Epoch 40/100 terminée.\n",
      "Epoch 50/100 terminée.\n",
      "Epoch 60/100 terminée.\n",
      "Epoch 70/100 terminée.\n",
      "Epoch 80/100 terminée.\n",
      "Epoch 90/100 terminée.\n"
     ]
    }
   ],
   "source": [
    "learning_rate = 0.01\n",
    "epochs = 100\n",
    "\n",
    "def entrainer_model():\n",
    "    for epoch in range(epochs):\n",
    "        for mot_central, mot_contextuel in paires:\n",
    "            v_central = W_in[vocabulaire.index(mot_central)]\n",
    "            u_contextuel = W_out[vocabulaire.index(mot_contextuel)]\n",
    "\n",
    "            # Produit scalaire + Sigmoïde\n",
    "            score = np.dot(v_central, u_contextuel)\n",
    "            prob = 1 / (1 + np.exp(-score))\n",
    "            erreur = 1 - prob\n",
    "\n",
    "            # Mise à jour des poids\n",
    "            W_in[vocabulaire.index(mot_central)] += learning_rate * erreur * u_contextuel\n",
    "            W_out[vocabulaire.index(mot_contextuel)] += learning_rate * erreur * v_central\n",
    "\n",
    "            # Negative Sampling\n",
    "            mots_negatifs = choisir_mots_negatifs(mot_central, k=5)\n",
    "            for mot_negatif in mots_negatifs:\n",
    "                u_negatif = W_out[vocabulaire.index(mot_negatif)]\n",
    "                score_neg = np.dot(v_central, u_negatif)\n",
    "                prob_neg = 1 / (1 + np.exp(-score_neg))\n",
    "                erreur_neg = 0 - prob_neg\n",
    "\n",
    "                # Mise à jour des poids (éloignement)\n",
    "                W_in[vocabulaire.index(mot_central)] += learning_rate * erreur_neg * u_negatif\n",
    "                W_out[vocabulaire.index(mot_negatif)] += learning_rate * erreur_neg * v_central\n",
    "\n",
    "        if epoch % 10 == 0:\n",
    "            print(f\"Epoch {epoch}/{epochs} terminée.\")\n",
    "\n",
    "entrainer_model()"
   ]
  },
  {
   "cell_type": "markdown",
   "id": "1e8702a6",
   "metadata": {},
   "source": [
    "Visualisation des embeddings"
   ]
  },
  {
   "cell_type": "code",
   "execution_count": 7,
   "id": "8e7527ce",
   "metadata": {},
   "outputs": [
    {
     "data": {
      "image/png": "[encoded data removed]",
      "text/plain": [
       "<Figure size 600x600 with 1 Axes>"
      ]
     },
     "metadata": {},
     "output_type": "display_data"
    }
   ],
   "source": [
    "from sklearn.decomposition import PCA\n",
    "\n",
    "# Réduction de dimension des embeddings\n",
    "pca = PCA(n_components=2)\n",
    "embeddings_2D = pca.fit_transform(W_in)\n",
    "\n",
    "# Tracé des points\n",
    "plt.figure(figsize=(6, 6))\n",
    "for i, mot in enumerate(vocabulaire):\n",
    "    plt.scatter(embeddings_2D[i, 0], embeddings_2D[i, 1])\n",
    "    plt.annotate(mot, (embeddings_2D[i, 0], embeddings_2D[i, 1]))\n",
    "plt.title(\"Projection des embeddings en 2D\")\n",
    "plt.show()"
   ]
  },
  {
   "cell_type": "markdown",
   "id": "6c38fed1",
   "metadata": {},
   "source": [
    "Les mots proches sur le graphe sont censés être sémantiquement liés.\n",
    "Par exemple, si \"chat\" et \"maison\" sont proches, cela signifie que dans le corpus d'entraînement, ces mots apparaissent souvent ensemble.\n",
    "Si des mots comme \"dans\" et \"est\" sont aussi regroupés, c’est parce qu’ils apparaissent souvent dans des contextes similaires.\n",
    "\n",
    "Pourquoi certains mots sont éloignés ?\n",
    "\n",
    "Si \"chambre\" est loin de \"chat\", cela signifie que dans ce corpus particulier, \"chambre\" n'est pas aussi souvent utilisé avec \"chat\".\n",
    "\n",
    "Les mots comme \"dans\", \"la\", \"est\" sont des mots courants et peuvent avoir des significations plus générales."
   ]
  },
  {
   "cell_type": "markdown",
   "id": "0e46e10d",
   "metadata": {},
   "source": []
  }
 ],
 "metadata": {
  "kernelspec": {
   "display_name": "Python 3",
   "language": "python",
   "name": "python3"
  },
  "language_info": {
   "codemirror_mode": {
    "name": "ipython",
    "version": 3
   },
   "file_extension": ".py",
   "mimetype": "text/x-python",
   "name": "python",
   "nbconvert_exporter": "python",
   "pygments_lexer": "ipython3",
   "version": "3.11.9"
  }
 },
 "nbformat": 4,
 "nbformat_minor": 5
}
